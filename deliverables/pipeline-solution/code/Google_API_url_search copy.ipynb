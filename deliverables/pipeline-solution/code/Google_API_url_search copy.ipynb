{
 "cells": [
  {
   "cell_type": "code",
   "execution_count": 1,
   "id": "04fa104d",
   "metadata": {},
   "outputs": [],
   "source": [
    "import os\n",
    "import requests\n",
    "\n",
    "GOOGLE_API_KEY    = os.environ[\"GOOGLE_API_KEY\"]\n",
    "SEARCH_ENGINE_ID  = os.environ[\"SEARCH_ENGINE_ID\"]\n",
    "\n",
    "def linkedin_profile_search(query: str, university_names: list = [\"University of Amsterdam\",\"Universiteit van Amsterdam\"], course_names: list = \"Accountancy\"):\n",
    "    \"\"\"\n",
    "    Return the single most relevant LinkedIn profile URL for `query`,\n",
    "    optionally filtering by universities or course names.\n",
    "    \"\"\"\n",
    "    # build the search query just as before\n",
    "    search_terms = [f'\"{query}\"']\n",
    "\n",
    "    search_terms.append(\"(\" + \" OR \".join(f'\"{u}\"' for u in university_names) + \")\")\n",
    "    search_terms.append(\"(\" + \" OR \".join(f'\"{c}\"' for c in course_names) + \")\")\n",
    "    q = \" AND \".join(search_terms) + \" site:linkedin.com/in/\"\n",
    "\n",
    "    params = {\n",
    "        \"key\": GOOGLE_API_KEY,\n",
    "        \"cx\":  SEARCH_ENGINE_ID,\n",
    "        \"q\":   q,\n",
    "        \"num\": 5,              # ← only ask for the top 1 result\n",
    "    }\n",
    "\n",
    "    try:\n",
    "        resp = requests.get(\"https://www.googleapis.com/customsearch/v1\", params=params)\n",
    "        resp.raise_for_status()\n",
    "        data = resp.json()\n",
    "        items = data.get(\"items\") or []\n",
    "\n",
    "        # if we got at least one item, return its formattedUrl; else None\n",
    "        if items:\n",
    "            \n",
    "            return [item.get(\"formattedUrl\") for item in items]\n",
    "        return None\n",
    "\n",
    "    except requests.RequestException as e:\n",
    "        # network or HTTP error\n",
    "        print(\"Request failed:\", e)\n",
    "        raise\n",
    "    except ValueError:\n",
    "        # JSON decode error\n",
    "        print(\"Invalid JSON in response\")\n",
    "        raise\n"
   ]
  },
  {
   "cell_type": "code",
   "execution_count": 3,
   "id": "5e35b31a",
   "metadata": {},
   "outputs": [
    {
     "data": {
      "text/plain": [
       "['https://nl.linkedin.com/in/wilke-geurds',\n",
       " 'https://nl.linkedin.com/in/yasmine-stoop-553258173',\n",
       " 'https://nl.linkedin.com/in/luke-hoogerwerf-b04ba61ba',\n",
       " 'https://nl.linkedin.com/in/daniel-jellema-518b3448',\n",
       " 'https://nl.linkedin.com/in/tess-ravensberg2021']"
      ]
     },
     "execution_count": 3,
     "metadata": {},
     "output_type": "execute_result"
    }
   ],
   "source": [
    "linkedin_profile_search(\"Wilke Geurds\")"
   ]
  }
 ],
 "metadata": {
  "kernelspec": {
   "display_name": "base",
   "language": "python",
   "name": "python3"
  },
  "language_info": {
   "codemirror_mode": {
    "name": "ipython",
    "version": 3
   },
   "file_extension": ".py",
   "mimetype": "text/x-python",
   "name": "python",
   "nbconvert_exporter": "python",
   "pygments_lexer": "ipython3",
   "version": "3.12.7"
  }
 },
 "nbformat": 4,
 "nbformat_minor": 5
}
