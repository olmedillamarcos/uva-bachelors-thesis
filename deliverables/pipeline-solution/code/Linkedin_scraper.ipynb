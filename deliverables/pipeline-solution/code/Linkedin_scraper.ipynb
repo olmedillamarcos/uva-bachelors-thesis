{
 "cells": [
  {
   "cell_type": "code",
   "execution_count": 4,
   "id": "0e24e2d9",
   "metadata": {},
   "outputs": [],
   "source": [
    "from pathlib import Path\n",
    "from staffspy import LinkedInAccount, SolverType, DriverType, BrowserType\n",
    "import json"
   ]
  },
  {
   "cell_type": "code",
   "execution_count": 9,
   "id": "ea6c0139",
   "metadata": {},
   "outputs": [],
   "source": [
    "\n",
    "with open(\"user_ids copy.json\", \"r\", encoding=\"utf-8\") as f:\n",
    "    user_ids = json.load(f)"
   ]
  },
  {
   "cell_type": "code",
   "execution_count": 6,
   "id": "c290132c",
   "metadata": {},
   "outputs": [],
   "source": [
    "session_file = Path().resolve()/  'session.pkl'\n"
   ]
  },
  {
   "cell_type": "code",
   "execution_count": 7,
   "id": "3b6564a9",
   "metadata": {},
   "outputs": [
    {
     "name": "stderr",
     "output_type": "stream",
     "text": [
      "2025-06-15 18:01:17,846 - StaffSpy - INFO - Testing if logged in by checking arbitrary LinkedIn company page\n",
      "2025-06-15 18:01:18,490 - StaffSpy - INFO - Account successfully logged in - res code 200\n"
     ]
    }
   ],
   "source": [
    "account = LinkedInAccount(\n",
    "    session_file=str(session_file),\n",
    "    log_level=1\n",
    ")\n",
    "\n"
   ]
  },
  {
   "cell_type": "code",
   "execution_count": 10,
   "id": "48dae087",
   "metadata": {},
   "outputs": [
    {
     "name": "stderr",
     "output_type": "stream",
     "text": [
      "2025-06-15 18:03:27,261 - StaffSpy - INFO - Fetching data for account ACoAACrD6ioB808Pom0xXc8RKnw0W33B0X-TR0c    1 / 25 - https://www.linkedin.com/in/anna-cooper-976349180\n",
      "2025-06-15 18:03:28,183 - StaffSpy - INFO - Fetching data for account ACoAAAxfn08B2GrDMS1gVhzAu4duWGyzcfGZjg0    2 / 25 - https://www.linkedin.com/in/sophiemichielse\n",
      "2025-06-15 18:03:29,227 - StaffSpy - INFO - Fetching data for account ACoAAAE0d0EBOg0rLPLgIyiGbS-hCIVlAqcCN6I    3 / 25 - https://www.linkedin.com/in/gulsahustuner\n",
      "2025-06-15 18:03:30,314 - StaffSpy - INFO - Fetching data for account ACoAAACjgiMBf354LUPr5Le8R2Hxx05MjjLdsz4    4 / 25 - https://www.linkedin.com/in/danielvasiliu\n",
      "2025-06-15 18:03:31,427 - StaffSpy - INFO - Fetching data for account ACoAAAHlZNcBNWKBF3DYI3ISSzW-Es_-RKIE6zE    5 / 25 - https://www.linkedin.com/in/rosaline-hoogstraate-01b7a1a\n",
      "2025-06-15 18:03:32,428 - StaffSpy - INFO - Fetching data for account ACoAACd8lI0BLH8OppGeTCINHqHIE0ArXnpXlLM    6 / 25 - https://www.linkedin.com/in/marjolein-duivenvoorden-325a41165\n",
      "2025-06-15 18:03:33,461 - StaffSpy - INFO - Fetching data for account ACoAACP_IP4BUMSZHDvYHOPXnIq4mx7zo0b_yrs    7 / 25 - https://www.linkedin.com/in/marlous-spuijbroek-36630414a\n",
      "2025-06-15 18:03:34,461 - StaffSpy - INFO - Fetching data for account ACoAAAHsWFkBli5mDNpBoIswALMxIduXJf5iyvU    8 / 25 - https://www.linkedin.com/in/joostwijnhoven\n",
      "2025-06-15 18:03:35,604 - StaffSpy - INFO - Fetching data for account ACoAAAZC2xwBfDh4cNm7Sg01QD2WxgVzLUf8oQs    9 / 25 - https://www.linkedin.com/in/rudolf-winkenius-9642192b\n",
      "2025-06-15 18:03:36,639 - StaffSpy - INFO - Fetching data for account ACoAAAnd9sABm_798VVwtCW2ltcndYKQAgJh82E   10 / 25 - https://www.linkedin.com/in/mark-schenkels-62853347\n",
      "2025-06-15 18:03:37,874 - StaffSpy - INFO - Fetching data for account ACoAACfI1tAB13ymYTPjdTZ2ZuCtpTBGbemwozM   11 / 25 - https://www.linkedin.com/in/yang-xu-554651167\n",
      "2025-06-15 18:03:38,978 - StaffSpy - INFO - Fetching data for account ACoAAAO7dfsBG8ajXcu4FJwoXvaPkZwvDuXLqsQ   12 / 25 - https://www.linkedin.com/in/katlyn-y-8a3b7818\n",
      "2025-06-15 18:03:39,961 - StaffSpy - INFO - Fetching data for account ACoAABbKx54BaRGRDkXje2tlVgzxCnUsLyM320o   13 / 25 - https://www.linkedin.com/in/nini-fritz-24404bm23\n",
      "2025-06-15 18:03:41,194 - StaffSpy - INFO - Fetching data for account ACoAACPzsOwBStp28Ipp7rZVlGoib_Lsy5PGUcE   14 / 25 - https://www.linkedin.com/in/yutong--chen\n",
      "2025-06-15 18:03:42,328 - StaffSpy - INFO - Fetching data for account ACoAAC5qIIYBpF0JRxn98HEra6Dnmsn0DQg8E28   15 / 25 - https://www.linkedin.com/in/menghan-li-806954198\n",
      "2025-06-15 18:03:43,327 - StaffSpy - INFO - Fetching data for account ACoAAAF9lvwBYYzAGvo2cQC7LgHpUkcW4VT4NhE   16 / 25 - https://www.linkedin.com/in/dennis-wentzel-1904608\n",
      "2025-06-15 18:03:44,361 - StaffSpy - INFO - Fetching data for account ACoAABGCf8EBRCPPGzE3f1AWqIydr1Bgy3C718M   17 / 25 - https://www.linkedin.com/in/emmy-de-jongste-b1546a82\n",
      "2025-06-15 18:03:45,327 - StaffSpy - INFO - Fetching data for account ACoAAAG3DTsBXeL_xT4p5OtJMtA6PmxR2B3TusA   18 / 25 - https://www.linkedin.com/in/mark-witteveen-5377779\n",
      "2025-06-15 18:03:46,317 - StaffSpy - INFO - Fetching data for account ACoAAAP525kBU4nMHoDT4fdKqILmoEgoswIyJew   19 / 25 - https://www.linkedin.com/in/arjan-van-meene-24940b1a\n",
      "2025-06-15 18:03:47,396 - StaffSpy - INFO - Fetching data for account ACoAAAee-FYB0NKYtULdJCGGx7wgQEMw_pjKukI   20 / 25 - https://www.linkedin.com/in/yvette-van-doesburg-41a9a036\n",
      "2025-06-15 18:03:48,561 - StaffSpy - INFO - Fetching data for account ACoAAAILRggBjKuWKluje9pkVmoWQPbKItIsgWM   21 / 25 - https://www.linkedin.com/in/rick-van-der-pol-774599b\n",
      "2025-06-15 18:03:49,718 - StaffSpy - INFO - Fetching data for account ACoAAAhOjuEBhRskBVdCRMPpTLZp7YzTTqkyPyI   22 / 25 - https://www.linkedin.com/in/nadine-maters-ra-82980b3a\n",
      "2025-06-15 18:03:50,723 - StaffSpy - INFO - Fetching data for account ACoAAAZEQlAB1bo-C-_D3lmc8NhZgB-XlPiHVhY   23 / 25 - https://www.linkedin.com/in/drs-abdel-arabi-ra-0142632b\n",
      "2025-06-15 18:03:51,717 - StaffSpy - INFO - Fetching data for account ACoAABEXa4wB75r69sttu9A6kRq_PmVKkqjhm7Q   24 / 25 - https://www.linkedin.com/in/mandy-hoogewerf-a3804580\n",
      "2025-06-15 18:03:52,692 - StaffSpy - INFO - Fetching data for account ACoAAAzSmEoBGtbM3SY8_L0w89OlSbGvp4NyVMw   25 / 25 - https://www.linkedin.com/in/jolina-groenendijk-54a06760\n",
      "2025-06-15 18:03:53,497 - StaffSpy - INFO - Scraped 25 users\n"
     ]
    }
   ],
   "source": [
    "users = account.scrape_users(\n",
    "    user_ids=user_ids\n",
    ")\n",
    "\n"
   ]
  },
  {
   "cell_type": "code",
   "execution_count": null,
   "id": "b0c09601",
   "metadata": {},
   "outputs": [],
   "source": [
    "users.to_csv(\"users_1435-1534.csv\", index=False)\n"
   ]
  },
  {
   "cell_type": "code",
   "execution_count": null,
   "id": "02dd3489",
   "metadata": {},
   "outputs": [],
   "source": []
  }
 ],
 "metadata": {
  "kernelspec": {
   "display_name": "base",
   "language": "python",
   "name": "python3"
  },
  "language_info": {
   "codemirror_mode": {
    "name": "ipython",
    "version": 3
   },
   "file_extension": ".py",
   "mimetype": "text/x-python",
   "name": "python",
   "nbconvert_exporter": "python",
   "pygments_lexer": "ipython3",
   "version": "3.12.7"
  }
 },
 "nbformat": 4,
 "nbformat_minor": 5
}
